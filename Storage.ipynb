{
 "cells": [
  {
   "cell_type": "code",
   "execution_count": null,
   "id": "1c0d1d90",
   "metadata": {},
   "outputs": [],
   "source": [
    "def combine_selections(**kwargs):\n",
    "    \"\"\"\n",
    "    Combines selections on all available plots into a single selection by index.\n",
    "    \"\"\"\n",
    "    if all(not v for v in kwargs.values()):\n",
    "        return slice(None)\n",
    "    selection = {}\n",
    "    for key, bounds in kwargs.items():\n",
    "        if bounds is None:\n",
    "            continue\n",
    "        elif len(bounds) == 2:\n",
    "            selection[key] = bounds\n",
    "        else:\n",
    "            xbound, ybound = key.split('__')\n",
    "            selection[xbound] = bounds[0], bounds[2]\n",
    "            selection[ybound] = bounds[1], bounds[3]\n",
    "    return sorted(set(RGI.select(**selection).data.index))\n",
    "\n",
    "def select_data(**kwargs):\n",
    "    return RGI.iloc[combine_selections(**kwargs)] if kwargs else RGI\n",
    "\n",
    "def combine_selections_t(year, **kwargs):\n",
    "    \"\"\"\n",
    "    Combines selections on all available plots into a single selection by index.\n",
    "    \"\"\"\n",
    "    print(kwargs)\n",
    "    if all(not v for v in kwargs.values()):\n",
    "        return slice(None)\n",
    "    selection = {}\n",
    "    for key, bounds in kwargs.items():\n",
    "        if bounds is None:\n",
    "            continue\n",
    "        elif len(bounds) == 2:\n",
    "            selection[key] = bounds\n",
    "        else:\n",
    "            xbound, ybound = key.split('__')\n",
    "            selection[xbound] = bounds[0], bounds[2]\n",
    "            selection[ybound] = bounds[1], bounds[3]\n",
    "    return sorted(set(lakes[year].select(**selection).data.index))\n",
    "\n",
    "def select_data_t(year, **kwargs):\n",
    "    print(kwargs)\n",
    "    return lakes[year].iloc[combine_selections_t(year, **kwargs)] if kwargs else lakes"
   ]
  }
 ],
 "metadata": {
  "kernelspec": {
   "display_name": "Python 3 (ipykernel)",
   "language": "python",
   "name": "python3"
  },
  "language_info": {
   "codemirror_mode": {
    "name": "ipython",
    "version": 3
   },
   "file_extension": ".py",
   "mimetype": "text/x-python",
   "name": "python",
   "nbconvert_exporter": "python",
   "pygments_lexer": "ipython3",
   "version": "3.10.4"
  }
 },
 "nbformat": 4,
 "nbformat_minor": 5
}
